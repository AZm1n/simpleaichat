{
 "cells": [
  {
   "attachments": {},
   "cell_type": "markdown",
   "metadata": {},
   "source": [
    "simpleaichat Azure OpenAI example."
   ]
  },
  {
   "cell_type": "code",
   "execution_count": 1,
   "metadata": {},
   "outputs": [],
   "source": [
    "import os\n",
    "from simpleaichat import AIChat"
   ]
  },
  {
   "cell_type": "code",
   "execution_count": 2,
   "metadata": {},
   "outputs": [],
   "source": [
    "params = {\"temperature\": 0.0}  # for reproducibility\n",
    "model = \"gpt-35-turbo\"  # azure deployment name\n",
    "api_url =  os.getenv(\"OPENAI_API_BASE\") # https://xyz.openai.azure.com/\n",
    "api_key =  os.getenv(\"OPENAI_API_KEY\")  # 123...\n",
    "api_version = os.getenv(\"OPENAI_API_VERSION\") # 2023-05-15-preview \n",
    "ai = AIChat(console=False, params=params, model=model, api_type=\"azure\",\n",
    "             api_url=api_url, api_version=api_version)"
   ]
  },
  {
   "cell_type": "code",
   "execution_count": 3,
   "metadata": {},
   "outputs": [
    {
     "name": "stdout",
     "output_type": "stream",
     "text": [
      "Hello! How can I assist you today?\n"
     ]
    }
   ],
   "source": [
    "response = ai(\"Hello.\")\n",
    "print(response)"
   ]
  }
 ],
 "metadata": {
  "kernelspec": {
   "display_name": "Python 3",
   "language": "python",
   "name": "python3"
  },
  "language_info": {
   "codemirror_mode": {
    "name": "ipython",
    "version": 3
   },
   "file_extension": ".py",
   "mimetype": "text/x-python",
   "name": "python",
   "nbconvert_exporter": "python",
   "pygments_lexer": "ipython3",
   "version": "3.11.3"
  },
  "orig_nbformat": 4
 },
 "nbformat": 4,
 "nbformat_minor": 2
}
